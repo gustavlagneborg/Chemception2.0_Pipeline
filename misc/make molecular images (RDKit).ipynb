{
 "cells": [
  {
   "cell_type": "markdown",
   "id": "7010cbf5",
   "metadata": {},
   "source": [
    "### Notebook for making images with RDKit"
   ]
  },
  {
   "cell_type": "code",
   "execution_count": 1,
   "id": "87381292",
   "metadata": {},
   "outputs": [
    {
     "name": "stdout",
     "output_type": "stream",
     "text": [
      "2021.09.4\n"
     ]
    }
   ],
   "source": [
    "import requests\n",
    "import svgutils.transform as sg\n",
    "\n",
    "import rdkit\n",
    "from rdkit import Chem\n",
    "from IPython.display import SVG\n",
    "from rdkit.Chem import ChemicalFeatures\n",
    "from rdkit import RDConfig\n",
    "from rdkit.Chem import Draw\n",
    "from rdkit.Chem.Draw import rdMolDraw2D\n",
    "from rdkit.Chem import rdDepictor\n",
    "rdDepictor.SetPreferCoordGen(True)\n",
    "from rdkit.Chem.Draw import IPythonConsole\n",
    "from rdkit.Chem import Descriptors\n",
    "from rdkit.Chem.Descriptors import MolWt,NumRotatableBonds,HeavyAtomCount\n",
    "from rdkit.Chem import PandasTools\n",
    "from rdkit import RDLogger  \n",
    "\n",
    "from tdc.single_pred import HTS\n",
    "from tqdm import tqdm\n",
    "tqdm.pandas()\n",
    "\n",
    "print(rdkit.__version__)"
   ]
  },
  {
   "cell_type": "markdown",
   "id": "975b2c7b",
   "metadata": {},
   "source": [
    "#### some helper functions"
   ]
  },
  {
   "cell_type": "code",
   "execution_count": 2,
   "id": "b3303898",
   "metadata": {},
   "outputs": [],
   "source": [
    "def neutralize_atoms(smi):\n",
    "    #RDLogger.DisableLog('rdApp*')                                                                                                                                                       \n",
    "    mol = Chem.MolFromSmiles(smi)\n",
    "    pattern = Chem.MolFromSmarts(\"[+1!h0!$([*]~[-1,-2,-3,-4]),-1!$([*]~[+1,+2,+3,+4])]\")\n",
    "    at_matches = mol.GetSubstructMatches(pattern)\n",
    "    at_matches_list = [y[0] for y in at_matches]\n",
    "    if len(at_matches_list) > 0:\n",
    "        for at_idx in at_matches_list:\n",
    "            atom = mol.GetAtomWithIdx(at_idx)\n",
    "            chg = atom.GetFormalCharge()\n",
    "            hcount = atom.GetTotalNumHs()\n",
    "            atom.SetFormalCharge(0)\n",
    "            atom.SetNumExplicitHs(hcount - chg)\n",
    "            atom.UpdatePropertyCache()\n",
    "    #RDLogger.DisableLog('rdApp*')                                                                                                                                                       \n",
    "    smi = Chem.MolToSmiles(mol)\n",
    "    return smi\n",
    "\n",
    "\n",
    "def stripSalts(smi):\n",
    "    smi_longest = smi.split(\".\")\n",
    "    return max(smi_longest, key=len)\n",
    "\n",
    "\n",
    "def calc_3_descriptors(smi):\n",
    "    mol = Chem.MolFromSmiles(smi)\n",
    "    if mol:\n",
    "        mw,rotors,hvys = [x(mol) for x in [MolWt, NumRotatableBonds, HeavyAtomCount]]\n",
    "        res = [mw,rotors,hvys]\n",
    "    else:\n",
    "        res = [None] * 3\n",
    "    return res\n",
    "\n",
    "\n",
    "def commonAtoms(smi):\n",
    "    commonAtomNumbers = [1,6,7,8,9,15,16,17,35,53]\n",
    "    mol = Chem.MolFromSmiles(smi)\n",
    "    res = True\n",
    "    if mol:\n",
    "        for atm in mol.GetAtoms():\n",
    "            if not atm.GetAtomicNum() in commonAtomNumbers:\n",
    "                res = False\n",
    "                break\n",
    "    else:\n",
    "        res = False\n",
    "    return res\n",
    "\n",
    "\n",
    "def getMolListFromDataFrame(df, prop_name):\n",
    "    molObjList = []    \n",
    "    for ind, row in df.iterrows():\n",
    "        mol = Chem.MolFromSmiles(row['SMILES'])\n",
    "        for prop_name in [s for s in row.index if s !=\"SMILES\"]: # all other cols except smiles \n",
    "            mol.SetProp(prop_name,str(row[prop_name])) # only str allowed in mol props\n",
    "        molObjList.append(mol)\n",
    "    return molObjList   "
   ]
  },
  {
   "cell_type": "markdown",
   "id": "ce0c27a2",
   "metadata": {},
   "source": [
    "### Retrieve the HIV data set from TD commons and store in data frame\n",
    "(https://tdcommons.ai/single_pred_tasks/hts/#hiv)"
   ]
  },
  {
   "cell_type": "code",
   "execution_count": 3,
   "id": "cc6f7212",
   "metadata": {},
   "outputs": [
    {
     "name": "stderr",
     "output_type": "stream",
     "text": [
      "Found local copy...\n",
      "Loading...\n",
      "Done!\n"
     ]
    }
   ],
   "source": [
    "data = HTS(name = 'HIV')\n",
    "df = data.get_data()\n",
    "#df.drop(['Drug'], axis=1, inplace=True)\n",
    "df.rename(columns={'Drug_ID':'MolName','Drug':'SMILES','Y':'HIV_active'},inplace=True)"
   ]
  },
  {
   "cell_type": "code",
   "execution_count": 4,
   "id": "c8697958",
   "metadata": {},
   "outputs": [
    {
     "data": {
      "text/plain": [
       "1443"
      ]
     },
     "execution_count": 4,
     "metadata": {},
     "output_type": "execute_result"
    }
   ],
   "source": [
    "df[\"HIV_active\"].value_counts()[1]\n",
    "\n"
   ]
  },
  {
   "cell_type": "code",
   "execution_count": 5,
   "id": "7ea4a213",
   "metadata": {},
   "outputs": [
    {
     "name": "stderr",
     "output_type": "stream",
     "text": [
      "100%|██████████| 41127/41127 [00:07<00:00, 5429.43it/s]\n",
      "100%|██████████| 39227/39227 [00:00<00:00, 1075781.11it/s]\n",
      "  1%|▏         | 521/39227 [00:00<00:08, 4354.28it/s]\n"
     ]
    },
    {
     "ename": "KeyboardInterrupt",
     "evalue": "",
     "output_type": "error",
     "traceback": [
      "\u001b[1;31m---------------------------------------------------------------------------\u001b[0m",
      "\u001b[1;31mKeyboardInterrupt\u001b[0m                         Traceback (most recent call last)",
      "\u001b[1;32m~\\AppData\\Local\\Temp/ipykernel_4316/519104501.py\u001b[0m in \u001b[0;36m<module>\u001b[1;34m\u001b[0m\n\u001b[0;32m     12\u001b[0m \u001b[1;33m\u001b[0m\u001b[0m\n\u001b[0;32m     13\u001b[0m \u001b[1;31m# neutralize\u001b[0m\u001b[1;33m\u001b[0m\u001b[1;33m\u001b[0m\u001b[1;33m\u001b[0m\u001b[0m\n\u001b[1;32m---> 14\u001b[1;33m \u001b[0mdf\u001b[0m\u001b[1;33m[\u001b[0m\u001b[1;34m'SMILES'\u001b[0m\u001b[1;33m]\u001b[0m \u001b[1;33m=\u001b[0m \u001b[0mdf\u001b[0m\u001b[1;33m.\u001b[0m\u001b[0mSMILES\u001b[0m\u001b[1;33m.\u001b[0m\u001b[0mprogress_apply\u001b[0m\u001b[1;33m(\u001b[0m\u001b[0mneutralize_atoms\u001b[0m\u001b[1;33m)\u001b[0m \u001b[1;31m# clean SMILES\u001b[0m\u001b[1;33m\u001b[0m\u001b[1;33m\u001b[0m\u001b[0m\n\u001b[0m\u001b[0;32m     15\u001b[0m \u001b[1;33m\u001b[0m\u001b[0m\n\u001b[0;32m     16\u001b[0m \u001b[1;31m# calculate and filter on three simple descriptors (RDkit)\u001b[0m\u001b[1;33m\u001b[0m\u001b[1;33m\u001b[0m\u001b[1;33m\u001b[0m\u001b[0m\n",
      "\u001b[1;32m~\\miniconda3\\envs\\cheminformatics\\lib\\site-packages\\tqdm\\std.py\u001b[0m in \u001b[0;36minner\u001b[1;34m(df, func, *args, **kwargs)\u001b[0m\n\u001b[0;32m    812\u001b[0m                 \u001b[1;31m# on the df using our wrapper (which provides bar updating)\u001b[0m\u001b[1;33m\u001b[0m\u001b[1;33m\u001b[0m\u001b[1;33m\u001b[0m\u001b[0m\n\u001b[0;32m    813\u001b[0m                 \u001b[1;32mtry\u001b[0m\u001b[1;33m:\u001b[0m\u001b[1;33m\u001b[0m\u001b[1;33m\u001b[0m\u001b[0m\n\u001b[1;32m--> 814\u001b[1;33m                     \u001b[1;32mreturn\u001b[0m \u001b[0mgetattr\u001b[0m\u001b[1;33m(\u001b[0m\u001b[0mdf\u001b[0m\u001b[1;33m,\u001b[0m \u001b[0mdf_function\u001b[0m\u001b[1;33m)\u001b[0m\u001b[1;33m(\u001b[0m\u001b[0mwrapper\u001b[0m\u001b[1;33m,\u001b[0m \u001b[1;33m**\u001b[0m\u001b[0mkwargs\u001b[0m\u001b[1;33m)\u001b[0m\u001b[1;33m\u001b[0m\u001b[1;33m\u001b[0m\u001b[0m\n\u001b[0m\u001b[0;32m    815\u001b[0m                 \u001b[1;32mfinally\u001b[0m\u001b[1;33m:\u001b[0m\u001b[1;33m\u001b[0m\u001b[1;33m\u001b[0m\u001b[0m\n\u001b[0;32m    816\u001b[0m                     \u001b[0mt\u001b[0m\u001b[1;33m.\u001b[0m\u001b[0mclose\u001b[0m\u001b[1;33m(\u001b[0m\u001b[1;33m)\u001b[0m\u001b[1;33m\u001b[0m\u001b[1;33m\u001b[0m\u001b[0m\n",
      "\u001b[1;32m~\\miniconda3\\envs\\cheminformatics\\lib\\site-packages\\pandas\\core\\series.py\u001b[0m in \u001b[0;36mapply\u001b[1;34m(self, func, convert_dtype, args, **kwargs)\u001b[0m\n\u001b[0;32m   4355\u001b[0m         \u001b[0mdtype\u001b[0m\u001b[1;33m:\u001b[0m \u001b[0mfloat64\u001b[0m\u001b[1;33m\u001b[0m\u001b[1;33m\u001b[0m\u001b[0m\n\u001b[0;32m   4356\u001b[0m         \"\"\"\n\u001b[1;32m-> 4357\u001b[1;33m         \u001b[1;32mreturn\u001b[0m \u001b[0mSeriesApply\u001b[0m\u001b[1;33m(\u001b[0m\u001b[0mself\u001b[0m\u001b[1;33m,\u001b[0m \u001b[0mfunc\u001b[0m\u001b[1;33m,\u001b[0m \u001b[0mconvert_dtype\u001b[0m\u001b[1;33m,\u001b[0m \u001b[0margs\u001b[0m\u001b[1;33m,\u001b[0m \u001b[0mkwargs\u001b[0m\u001b[1;33m)\u001b[0m\u001b[1;33m.\u001b[0m\u001b[0mapply\u001b[0m\u001b[1;33m(\u001b[0m\u001b[1;33m)\u001b[0m\u001b[1;33m\u001b[0m\u001b[1;33m\u001b[0m\u001b[0m\n\u001b[0m\u001b[0;32m   4358\u001b[0m \u001b[1;33m\u001b[0m\u001b[0m\n\u001b[0;32m   4359\u001b[0m     def _reduce(\n",
      "\u001b[1;32m~\\miniconda3\\envs\\cheminformatics\\lib\\site-packages\\pandas\\core\\apply.py\u001b[0m in \u001b[0;36mapply\u001b[1;34m(self)\u001b[0m\n\u001b[0;32m   1041\u001b[0m             \u001b[1;32mreturn\u001b[0m \u001b[0mself\u001b[0m\u001b[1;33m.\u001b[0m\u001b[0mapply_str\u001b[0m\u001b[1;33m(\u001b[0m\u001b[1;33m)\u001b[0m\u001b[1;33m\u001b[0m\u001b[1;33m\u001b[0m\u001b[0m\n\u001b[0;32m   1042\u001b[0m \u001b[1;33m\u001b[0m\u001b[0m\n\u001b[1;32m-> 1043\u001b[1;33m         \u001b[1;32mreturn\u001b[0m \u001b[0mself\u001b[0m\u001b[1;33m.\u001b[0m\u001b[0mapply_standard\u001b[0m\u001b[1;33m(\u001b[0m\u001b[1;33m)\u001b[0m\u001b[1;33m\u001b[0m\u001b[1;33m\u001b[0m\u001b[0m\n\u001b[0m\u001b[0;32m   1044\u001b[0m \u001b[1;33m\u001b[0m\u001b[0m\n\u001b[0;32m   1045\u001b[0m     \u001b[1;32mdef\u001b[0m \u001b[0magg\u001b[0m\u001b[1;33m(\u001b[0m\u001b[0mself\u001b[0m\u001b[1;33m)\u001b[0m\u001b[1;33m:\u001b[0m\u001b[1;33m\u001b[0m\u001b[1;33m\u001b[0m\u001b[0m\n",
      "\u001b[1;32m~\\miniconda3\\envs\\cheminformatics\\lib\\site-packages\\pandas\\core\\apply.py\u001b[0m in \u001b[0;36mapply_standard\u001b[1;34m(self)\u001b[0m\n\u001b[0;32m   1099\u001b[0m                     \u001b[0mvalues\u001b[0m\u001b[1;33m,\u001b[0m\u001b[1;33m\u001b[0m\u001b[1;33m\u001b[0m\u001b[0m\n\u001b[0;32m   1100\u001b[0m                     \u001b[0mf\u001b[0m\u001b[1;33m,\u001b[0m  \u001b[1;31m# type: ignore[arg-type]\u001b[0m\u001b[1;33m\u001b[0m\u001b[1;33m\u001b[0m\u001b[0m\n\u001b[1;32m-> 1101\u001b[1;33m                     \u001b[0mconvert\u001b[0m\u001b[1;33m=\u001b[0m\u001b[0mself\u001b[0m\u001b[1;33m.\u001b[0m\u001b[0mconvert_dtype\u001b[0m\u001b[1;33m,\u001b[0m\u001b[1;33m\u001b[0m\u001b[1;33m\u001b[0m\u001b[0m\n\u001b[0m\u001b[0;32m   1102\u001b[0m                 )\n\u001b[0;32m   1103\u001b[0m \u001b[1;33m\u001b[0m\u001b[0m\n",
      "\u001b[1;32m~\\miniconda3\\envs\\cheminformatics\\lib\\site-packages\\pandas\\_libs\\lib.pyx\u001b[0m in \u001b[0;36mpandas._libs.lib.map_infer\u001b[1;34m()\u001b[0m\n",
      "\u001b[1;32m~\\miniconda3\\envs\\cheminformatics\\lib\\site-packages\\tqdm\\std.py\u001b[0m in \u001b[0;36mwrapper\u001b[1;34m(*args, **kwargs)\u001b[0m\n\u001b[0;32m    807\u001b[0m                     \u001b[1;31m# take a fast or slow code path; so stop when t.total==t.n\u001b[0m\u001b[1;33m\u001b[0m\u001b[1;33m\u001b[0m\u001b[1;33m\u001b[0m\u001b[0m\n\u001b[0;32m    808\u001b[0m                     \u001b[0mt\u001b[0m\u001b[1;33m.\u001b[0m\u001b[0mupdate\u001b[0m\u001b[1;33m(\u001b[0m\u001b[0mn\u001b[0m\u001b[1;33m=\u001b[0m\u001b[1;36m1\u001b[0m \u001b[1;32mif\u001b[0m \u001b[1;32mnot\u001b[0m \u001b[0mt\u001b[0m\u001b[1;33m.\u001b[0m\u001b[0mtotal\u001b[0m \u001b[1;32mor\u001b[0m \u001b[0mt\u001b[0m\u001b[1;33m.\u001b[0m\u001b[0mn\u001b[0m \u001b[1;33m<\u001b[0m \u001b[0mt\u001b[0m\u001b[1;33m.\u001b[0m\u001b[0mtotal\u001b[0m \u001b[1;32melse\u001b[0m \u001b[1;36m0\u001b[0m\u001b[1;33m)\u001b[0m\u001b[1;33m\u001b[0m\u001b[1;33m\u001b[0m\u001b[0m\n\u001b[1;32m--> 809\u001b[1;33m                     \u001b[1;32mreturn\u001b[0m \u001b[0mfunc\u001b[0m\u001b[1;33m(\u001b[0m\u001b[1;33m*\u001b[0m\u001b[0margs\u001b[0m\u001b[1;33m,\u001b[0m \u001b[1;33m**\u001b[0m\u001b[0mkwargs\u001b[0m\u001b[1;33m)\u001b[0m\u001b[1;33m\u001b[0m\u001b[1;33m\u001b[0m\u001b[0m\n\u001b[0m\u001b[0;32m    810\u001b[0m \u001b[1;33m\u001b[0m\u001b[0m\n\u001b[0;32m    811\u001b[0m                 \u001b[1;31m# Apply the provided function (in **kwargs)\u001b[0m\u001b[1;33m\u001b[0m\u001b[1;33m\u001b[0m\u001b[1;33m\u001b[0m\u001b[0m\n",
      "\u001b[1;32m~\\AppData\\Local\\Temp/ipykernel_4316/4265358622.py\u001b[0m in \u001b[0;36mneutralize_atoms\u001b[1;34m(smi)\u001b[0m\n\u001b[0;32m      3\u001b[0m     \u001b[0mmol\u001b[0m \u001b[1;33m=\u001b[0m \u001b[0mChem\u001b[0m\u001b[1;33m.\u001b[0m\u001b[0mMolFromSmiles\u001b[0m\u001b[1;33m(\u001b[0m\u001b[0msmi\u001b[0m\u001b[1;33m)\u001b[0m\u001b[1;33m\u001b[0m\u001b[1;33m\u001b[0m\u001b[0m\n\u001b[0;32m      4\u001b[0m     \u001b[0mpattern\u001b[0m \u001b[1;33m=\u001b[0m \u001b[0mChem\u001b[0m\u001b[1;33m.\u001b[0m\u001b[0mMolFromSmarts\u001b[0m\u001b[1;33m(\u001b[0m\u001b[1;34m\"[+1!h0!$([*]~[-1,-2,-3,-4]),-1!$([*]~[+1,+2,+3,+4])]\"\u001b[0m\u001b[1;33m)\u001b[0m\u001b[1;33m\u001b[0m\u001b[1;33m\u001b[0m\u001b[0m\n\u001b[1;32m----> 5\u001b[1;33m     \u001b[0mat_matches\u001b[0m \u001b[1;33m=\u001b[0m \u001b[0mmol\u001b[0m\u001b[1;33m.\u001b[0m\u001b[0mGetSubstructMatches\u001b[0m\u001b[1;33m(\u001b[0m\u001b[0mpattern\u001b[0m\u001b[1;33m)\u001b[0m\u001b[1;33m\u001b[0m\u001b[1;33m\u001b[0m\u001b[0m\n\u001b[0m\u001b[0;32m      6\u001b[0m     \u001b[0mat_matches_list\u001b[0m \u001b[1;33m=\u001b[0m \u001b[1;33m[\u001b[0m\u001b[0my\u001b[0m\u001b[1;33m[\u001b[0m\u001b[1;36m0\u001b[0m\u001b[1;33m]\u001b[0m \u001b[1;32mfor\u001b[0m \u001b[0my\u001b[0m \u001b[1;32min\u001b[0m \u001b[0mat_matches\u001b[0m\u001b[1;33m]\u001b[0m\u001b[1;33m\u001b[0m\u001b[1;33m\u001b[0m\u001b[0m\n\u001b[0;32m      7\u001b[0m     \u001b[1;32mif\u001b[0m \u001b[0mlen\u001b[0m\u001b[1;33m(\u001b[0m\u001b[0mat_matches_list\u001b[0m\u001b[1;33m)\u001b[0m \u001b[1;33m>\u001b[0m \u001b[1;36m0\u001b[0m\u001b[1;33m:\u001b[0m\u001b[1;33m\u001b[0m\u001b[1;33m\u001b[0m\u001b[0m\n",
      "\u001b[1;32m~\\miniconda3\\envs\\cheminformatics\\lib\\site-packages\\rdkit\\Chem\\Draw\\IPythonConsole.py\u001b[0m in \u001b[0;36m_GetSubstructMatches\u001b[1;34m(mol, query, *args, **kwargs)\u001b[0m\n\u001b[0;32m    200\u001b[0m \u001b[1;33m\u001b[0m\u001b[0m\n\u001b[0;32m    201\u001b[0m \u001b[1;32mdef\u001b[0m \u001b[0m_GetSubstructMatches\u001b[0m\u001b[1;33m(\u001b[0m\u001b[0mmol\u001b[0m\u001b[1;33m,\u001b[0m \u001b[0mquery\u001b[0m\u001b[1;33m,\u001b[0m \u001b[1;33m*\u001b[0m\u001b[0margs\u001b[0m\u001b[1;33m,\u001b[0m \u001b[1;33m**\u001b[0m\u001b[0mkwargs\u001b[0m\u001b[1;33m)\u001b[0m\u001b[1;33m:\u001b[0m\u001b[1;33m\u001b[0m\u001b[1;33m\u001b[0m\u001b[0m\n\u001b[1;32m--> 202\u001b[1;33m   \u001b[0mres\u001b[0m \u001b[1;33m=\u001b[0m \u001b[0mmol\u001b[0m\u001b[1;33m.\u001b[0m\u001b[0m__GetSubstructMatches\u001b[0m\u001b[1;33m(\u001b[0m\u001b[0mquery\u001b[0m\u001b[1;33m,\u001b[0m \u001b[1;33m*\u001b[0m\u001b[0margs\u001b[0m\u001b[1;33m,\u001b[0m \u001b[1;33m**\u001b[0m\u001b[0mkwargs\u001b[0m\u001b[1;33m)\u001b[0m\u001b[1;33m\u001b[0m\u001b[1;33m\u001b[0m\u001b[0m\n\u001b[0m\u001b[0;32m    203\u001b[0m   \u001b[0mmol\u001b[0m\u001b[1;33m.\u001b[0m\u001b[0m__sssAtoms\u001b[0m \u001b[1;33m=\u001b[0m \u001b[1;33m[\u001b[0m\u001b[1;33m]\u001b[0m\u001b[1;33m\u001b[0m\u001b[1;33m\u001b[0m\u001b[0m\n\u001b[0;32m    204\u001b[0m   \u001b[1;32mif\u001b[0m \u001b[0mhighlightSubstructs\u001b[0m\u001b[1;33m:\u001b[0m\u001b[1;33m\u001b[0m\u001b[1;33m\u001b[0m\u001b[0m\n",
      "\u001b[1;31mKeyboardInterrupt\u001b[0m: "
     ]
    }
   ],
   "source": [
    "# Silence warning messages\n",
    "\n",
    "# add column flagging compounds with uncommon atom types\n",
    "numCpdsBefore = df.shape[0]\n",
    "\n",
    "# remove compounds with uncommon atoms types\n",
    "df['OnlyCommonAtms'] = df.SMILES.progress_apply(commonAtoms)\n",
    "df = df.loc[(df['OnlyCommonAtms'] == True)]\n",
    "\n",
    "# removing salts, cleaning up SMILES\n",
    "df['SMILES'] = df.SMILES.progress_apply(stripSalts) \n",
    "\n",
    "# neutralize\n",
    "df['SMILES'] = df.SMILES.progress_apply(neutralize_atoms) # clean SMILES\n",
    "\n",
    "# calculate and filter on three simple descriptors (RDkit)\n",
    "df['desc'] = df.SMILES.progress_apply(calc_3_descriptors)\n",
    "desc_cols = ['MW','Rotors','Heavys']\n",
    "df[desc_cols] = df.desc.to_list()\n",
    "df.drop(\"desc\",axis=1,inplace=True)\n",
    "\n",
    "# filter on simple properties\n",
    "df = df.loc[(df['Heavys'] > 5) & \n",
    "            (df['Heavys'] < 50) &\n",
    "            (df['Rotors'] < 18) &\n",
    "            (df['MW'] > 100) &\n",
    "            (df['MW'] < 900) #&\n",
    "            #(df['OnlyCommonAtms'] == True)\n",
    "            ]\n",
    "\n",
    "# drop columns from dataframe\n",
    "df.drop([\"OnlyCommonAtms\",'Heavys','MW','Rotors'], axis=1,inplace=True)\n",
    "\n",
    "numCpdsAfter = df.shape[0]\n",
    "\n",
    "print(f\"Starting with {numCpdsBefore} compounds. This many remaining {numCpdsAfter} after filtering.\")"
   ]
  },
  {
   "cell_type": "markdown",
   "id": "f29a47c3",
   "metadata": {},
   "source": [
    "## Sort the HIV actives and inactives into separate dateframes and lists"
   ]
  },
  {
   "cell_type": "code",
   "execution_count": null,
   "id": "9dda6bee",
   "metadata": {},
   "outputs": [
    {
     "name": "stdout",
     "output_type": "stream",
     "text": [
      "Number of actives: 1088 and inactives: 36554\n"
     ]
    }
   ],
   "source": [
    "df_inactives = df.loc[(df['HIV_active'] == 0)]\n",
    "inactivesList = getMolListFromDataFrame(df_inactives, \"MolName\")\n",
    "\n",
    "df_actives = df.loc[(df['HIV_active'] == 1)]\n",
    "activesList = getMolListFromDataFrame(df_actives, \"MolName\")\n",
    "\n",
    "print(f\"Number of actives: {len(activesList)} and inactives: {len(inactivesList)}\")"
   ]
  },
  {
   "cell_type": "markdown",
   "id": "0a7185d3",
   "metadata": {},
   "source": [
    "### export images as png files \n",
    "(saved in ./images folder)"
   ]
  },
  {
   "cell_type": "code",
   "execution_count": null,
   "id": "fabd4891",
   "metadata": {},
   "outputs": [
    {
     "name": "stdout",
     "output_type": "stream",
     "text": [
      "Done\n"
     ]
    }
   ],
   "source": [
    "path = \"MolFromSmilesImages/\"\n",
    "for active in activesList:\n",
    "    molname = active.GetProp(\"MolName\")\n",
    "    molname = molname.replace(\" \", \"_\")\n",
    "    filename = path + molname + \"_Active.png\"\n",
    "    Chem.Draw.MolToFile(active, filename, size=(200,150))#, kekulize=True, wedgeBonds=True, imageType=None, fitImage=False, options=None)\n",
    "print('Done')"
   ]
  },
  {
   "cell_type": "code",
   "execution_count": null,
   "id": "4f8a04dc",
   "metadata": {},
   "outputs": [
    {
     "name": "stdout",
     "output_type": "stream",
     "text": [
      "Done\n"
     ]
    }
   ],
   "source": [
    "# and the inactives\n",
    "for inactive in inactivesList:\n",
    "    molname = inactive.GetProp(\"MolName\")\n",
    "    molname = molname.replace(\" \", \"_\")\n",
    "    filename = path + molname + \"_Inactive.png\"\n",
    "    Chem.Draw.MolToFile(inactive, filename, size=(200,150))#, kekulize=True, wedgeBonds=True, imageType=None, fitImage=False, options=None)\n",
    "print('Done')\n"
   ]
  }
 ],
 "metadata": {
  "kernelspec": {
   "display_name": "Python 3 (ipykernel)",
   "language": "python",
   "name": "python3"
  },
  "language_info": {
   "codemirror_mode": {
    "name": "ipython",
    "version": 3
   },
   "file_extension": ".py",
   "mimetype": "text/x-python",
   "name": "python",
   "nbconvert_exporter": "python",
   "pygments_lexer": "ipython3",
   "version": "3.7.11"
  }
 },
 "nbformat": 4,
 "nbformat_minor": 5
}
