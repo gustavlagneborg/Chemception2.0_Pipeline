{
 "cells": [
  {
   "cell_type": "markdown",
   "id": "7010cbf5",
   "metadata": {},
   "source": [
    "### Notebook for making images with RDKit"
   ]
  },
  {
   "cell_type": "code",
   "execution_count": 1,
   "id": "87381292",
   "metadata": {},
   "outputs": [
    {
     "name": "stdout",
     "output_type": "stream",
     "text": [
      "2021.09.4\n"
     ]
    }
   ],
   "source": [
    "import requests\n",
    "import svgutils.transform as sg\n",
    "\n",
    "import rdkit\n",
    "from rdkit import Chem\n",
    "from IPython.display import SVG\n",
    "from rdkit.Chem import ChemicalFeatures\n",
    "from rdkit import RDConfig\n",
    "from rdkit.Chem import Draw\n",
    "from rdkit.Chem.Draw import rdMolDraw2D\n",
    "from rdkit.Chem import rdDepictor\n",
    "rdDepictor.SetPreferCoordGen(True)\n",
    "from rdkit.Chem.Draw import IPythonConsole\n",
    "from rdkit.Chem import Descriptors\n",
    "from rdkit.Chem.Descriptors import MolWt,NumRotatableBonds,HeavyAtomCount\n",
    "from rdkit.Chem import PandasTools\n",
    "from rdkit import RDLogger  \n",
    "\n",
    "from tdc.single_pred import HTS\n",
    "from tqdm import tqdm\n",
    "tqdm.pandas()\n",
    "\n",
    "print(rdkit.__version__)"
   ]
  },
  {
   "cell_type": "markdown",
   "id": "975b2c7b",
   "metadata": {},
   "source": [
    "#### some helper functions"
   ]
  },
  {
   "cell_type": "code",
   "execution_count": 2,
   "id": "b3303898",
   "metadata": {},
   "outputs": [],
   "source": [
    "def neutralize_atoms(smi):\n",
    "    #RDLogger.DisableLog('rdApp*')                                                                                                                                                       \n",
    "    mol = Chem.MolFromSmiles(smi)\n",
    "    pattern = Chem.MolFromSmarts(\"[+1!h0!$([*]~[-1,-2,-3,-4]),-1!$([*]~[+1,+2,+3,+4])]\")\n",
    "    at_matches = mol.GetSubstructMatches(pattern)\n",
    "    at_matches_list = [y[0] for y in at_matches]\n",
    "    if len(at_matches_list) > 0:\n",
    "        for at_idx in at_matches_list:\n",
    "            atom = mol.GetAtomWithIdx(at_idx)\n",
    "            chg = atom.GetFormalCharge()\n",
    "            hcount = atom.GetTotalNumHs()\n",
    "            atom.SetFormalCharge(0)\n",
    "            atom.SetNumExplicitHs(hcount - chg)\n",
    "            atom.UpdatePropertyCache()\n",
    "    #RDLogger.DisableLog('rdApp*')                                                                                                                                                       \n",
    "    smi = Chem.MolToSmiles(mol)\n",
    "    return smi\n",
    "\n",
    "\n",
    "def stripSalts(smi):\n",
    "    smi_longest = smi.split(\".\")\n",
    "    return max(smi_longest, key=len)\n",
    "\n",
    "\n",
    "def calc_3_descriptors(smi):\n",
    "    mol = Chem.MolFromSmiles(smi)\n",
    "    if mol:\n",
    "        mw,rotors,hvys = [x(mol) for x in [MolWt, NumRotatableBonds, HeavyAtomCount]]\n",
    "        res = [mw,rotors,hvys]\n",
    "    else:\n",
    "        res = [None] * 3\n",
    "    return res\n",
    "\n",
    "\n",
    "def commonAtoms(smi):\n",
    "    commonAtomNumbers = [1,6,7,8,9,15,16,17,35,53]\n",
    "    mol = Chem.MolFromSmiles(smi)\n",
    "    res = True\n",
    "    if mol:\n",
    "        for atm in mol.GetAtoms():\n",
    "            if not atm.GetAtomicNum() in commonAtomNumbers:\n",
    "                res = False\n",
    "                break\n",
    "    else:\n",
    "        res = False\n",
    "    return res\n",
    "\n",
    "\n",
    "def getMolListFromDataFrame(df, prop_name):\n",
    "    molObjList = []    \n",
    "    for ind, row in df.iterrows():\n",
    "        mol = Chem.MolFromSmiles(row['SMILES'])\n",
    "        for prop_name in [s for s in row.index if s !=\"SMILES\"]: # all other cols except smiles \n",
    "            mol.SetProp(prop_name,str(row[prop_name])) # only str allowed in mol props\n",
    "        molObjList.append(mol)\n",
    "    return molObjList   "
   ]
  },
  {
   "cell_type": "markdown",
   "id": "ce0c27a2",
   "metadata": {},
   "source": [
    "### Retrieve the HIV data set from TD commons and store in data frame\n",
    "(https://tdcommons.ai/single_pred_tasks/hts/#hiv)"
   ]
  },
  {
   "cell_type": "code",
   "execution_count": 3,
   "id": "cc6f7212",
   "metadata": {},
   "outputs": [
    {
     "name": "stderr",
     "output_type": "stream",
     "text": [
      "Found local copy...\n",
      "Loading...\n",
      "Done!\n"
     ]
    }
   ],
   "source": [
    "data = HTS(name = 'HIV')\n",
    "df = data.get_data()\n",
    "#df.drop(['Drug'], axis=1, inplace=True)\n",
    "df.rename(columns={'Drug_ID':'MolName','Drug':'SMILES','Y':'HIV_active'},inplace=True)"
   ]
  },
  {
   "cell_type": "code",
   "execution_count": 4,
   "id": "c8697958",
   "metadata": {},
   "outputs": [
    {
     "data": {
      "text/plain": [
       "1443"
      ]
     },
     "execution_count": 4,
     "metadata": {},
     "output_type": "execute_result"
    }
   ],
   "source": [
    "df[\"HIV_active\"].value_counts()[1]\n",
    "\n"
   ]
  },
  {
   "cell_type": "code",
   "execution_count": 5,
   "id": "7ea4a213",
   "metadata": {},
   "outputs": [
    {
     "name": "stderr",
     "output_type": "stream",
     "text": [
      "100%|██████████| 41127/41127 [00:07<00:00, 5429.43it/s]\n",
      "100%|██████████| 39227/39227 [00:00<00:00, 1075781.11it/s]\n",
      "  1%|▏         | 521/39227 [00:00<00:08, 4354.28it/s]\n"
     ]
    },
    {
     "ename": "KeyboardInterrupt",
     "evalue": "",
     "output_type": "error",
     "traceback": [
      "\u001B[1;31m---------------------------------------------------------------------------\u001B[0m",
      "\u001B[1;31mKeyboardInterrupt\u001B[0m                         Traceback (most recent call last)",
      "\u001B[1;32m~\\AppData\\Local\\Temp/ipykernel_4316/519104501.py\u001B[0m in \u001B[0;36m<module>\u001B[1;34m\u001B[0m\n\u001B[0;32m     12\u001B[0m \u001B[1;33m\u001B[0m\u001B[0m\n\u001B[0;32m     13\u001B[0m \u001B[1;31m# neutralize\u001B[0m\u001B[1;33m\u001B[0m\u001B[1;33m\u001B[0m\u001B[1;33m\u001B[0m\u001B[0m\n\u001B[1;32m---> 14\u001B[1;33m \u001B[0mdf\u001B[0m\u001B[1;33m[\u001B[0m\u001B[1;34m'SMILES'\u001B[0m\u001B[1;33m]\u001B[0m \u001B[1;33m=\u001B[0m \u001B[0mdf\u001B[0m\u001B[1;33m.\u001B[0m\u001B[0mSMILES\u001B[0m\u001B[1;33m.\u001B[0m\u001B[0mprogress_apply\u001B[0m\u001B[1;33m(\u001B[0m\u001B[0mneutralize_atoms\u001B[0m\u001B[1;33m)\u001B[0m \u001B[1;31m# clean SMILES\u001B[0m\u001B[1;33m\u001B[0m\u001B[1;33m\u001B[0m\u001B[0m\n\u001B[0m\u001B[0;32m     15\u001B[0m \u001B[1;33m\u001B[0m\u001B[0m\n\u001B[0;32m     16\u001B[0m \u001B[1;31m# calculate and filter on three simple descriptors (RDkit)\u001B[0m\u001B[1;33m\u001B[0m\u001B[1;33m\u001B[0m\u001B[1;33m\u001B[0m\u001B[0m\n",
      "\u001B[1;32m~\\miniconda3\\envs\\cheminformatics\\lib\\site-packages\\tqdm\\std.py\u001B[0m in \u001B[0;36minner\u001B[1;34m(df, func, *args, **kwargs)\u001B[0m\n\u001B[0;32m    812\u001B[0m                 \u001B[1;31m# on the df using our wrapper (which provides bar updating)\u001B[0m\u001B[1;33m\u001B[0m\u001B[1;33m\u001B[0m\u001B[1;33m\u001B[0m\u001B[0m\n\u001B[0;32m    813\u001B[0m                 \u001B[1;32mtry\u001B[0m\u001B[1;33m:\u001B[0m\u001B[1;33m\u001B[0m\u001B[1;33m\u001B[0m\u001B[0m\n\u001B[1;32m--> 814\u001B[1;33m                     \u001B[1;32mreturn\u001B[0m \u001B[0mgetattr\u001B[0m\u001B[1;33m(\u001B[0m\u001B[0mdf\u001B[0m\u001B[1;33m,\u001B[0m \u001B[0mdf_function\u001B[0m\u001B[1;33m)\u001B[0m\u001B[1;33m(\u001B[0m\u001B[0mwrapper\u001B[0m\u001B[1;33m,\u001B[0m \u001B[1;33m**\u001B[0m\u001B[0mkwargs\u001B[0m\u001B[1;33m)\u001B[0m\u001B[1;33m\u001B[0m\u001B[1;33m\u001B[0m\u001B[0m\n\u001B[0m\u001B[0;32m    815\u001B[0m                 \u001B[1;32mfinally\u001B[0m\u001B[1;33m:\u001B[0m\u001B[1;33m\u001B[0m\u001B[1;33m\u001B[0m\u001B[0m\n\u001B[0;32m    816\u001B[0m                     \u001B[0mt\u001B[0m\u001B[1;33m.\u001B[0m\u001B[0mclose\u001B[0m\u001B[1;33m(\u001B[0m\u001B[1;33m)\u001B[0m\u001B[1;33m\u001B[0m\u001B[1;33m\u001B[0m\u001B[0m\n",
      "\u001B[1;32m~\\miniconda3\\envs\\cheminformatics\\lib\\site-packages\\pandas\\core\\series.py\u001B[0m in \u001B[0;36mapply\u001B[1;34m(self, func, convert_dtype, args, **kwargs)\u001B[0m\n\u001B[0;32m   4355\u001B[0m         \u001B[0mdtype\u001B[0m\u001B[1;33m:\u001B[0m \u001B[0mfloat64\u001B[0m\u001B[1;33m\u001B[0m\u001B[1;33m\u001B[0m\u001B[0m\n\u001B[0;32m   4356\u001B[0m         \"\"\"\n\u001B[1;32m-> 4357\u001B[1;33m         \u001B[1;32mreturn\u001B[0m \u001B[0mSeriesApply\u001B[0m\u001B[1;33m(\u001B[0m\u001B[0mself\u001B[0m\u001B[1;33m,\u001B[0m \u001B[0mfunc\u001B[0m\u001B[1;33m,\u001B[0m \u001B[0mconvert_dtype\u001B[0m\u001B[1;33m,\u001B[0m \u001B[0margs\u001B[0m\u001B[1;33m,\u001B[0m \u001B[0mkwargs\u001B[0m\u001B[1;33m)\u001B[0m\u001B[1;33m.\u001B[0m\u001B[0mapply\u001B[0m\u001B[1;33m(\u001B[0m\u001B[1;33m)\u001B[0m\u001B[1;33m\u001B[0m\u001B[1;33m\u001B[0m\u001B[0m\n\u001B[0m\u001B[0;32m   4358\u001B[0m \u001B[1;33m\u001B[0m\u001B[0m\n\u001B[0;32m   4359\u001B[0m     def _reduce(\n",
      "\u001B[1;32m~\\miniconda3\\envs\\cheminformatics\\lib\\site-packages\\pandas\\core\\apply.py\u001B[0m in \u001B[0;36mapply\u001B[1;34m(self)\u001B[0m\n\u001B[0;32m   1041\u001B[0m             \u001B[1;32mreturn\u001B[0m \u001B[0mself\u001B[0m\u001B[1;33m.\u001B[0m\u001B[0mapply_str\u001B[0m\u001B[1;33m(\u001B[0m\u001B[1;33m)\u001B[0m\u001B[1;33m\u001B[0m\u001B[1;33m\u001B[0m\u001B[0m\n\u001B[0;32m   1042\u001B[0m \u001B[1;33m\u001B[0m\u001B[0m\n\u001B[1;32m-> 1043\u001B[1;33m         \u001B[1;32mreturn\u001B[0m \u001B[0mself\u001B[0m\u001B[1;33m.\u001B[0m\u001B[0mapply_standard\u001B[0m\u001B[1;33m(\u001B[0m\u001B[1;33m)\u001B[0m\u001B[1;33m\u001B[0m\u001B[1;33m\u001B[0m\u001B[0m\n\u001B[0m\u001B[0;32m   1044\u001B[0m \u001B[1;33m\u001B[0m\u001B[0m\n\u001B[0;32m   1045\u001B[0m     \u001B[1;32mdef\u001B[0m \u001B[0magg\u001B[0m\u001B[1;33m(\u001B[0m\u001B[0mself\u001B[0m\u001B[1;33m)\u001B[0m\u001B[1;33m:\u001B[0m\u001B[1;33m\u001B[0m\u001B[1;33m\u001B[0m\u001B[0m\n",
      "\u001B[1;32m~\\miniconda3\\envs\\cheminformatics\\lib\\site-packages\\pandas\\core\\apply.py\u001B[0m in \u001B[0;36mapply_standard\u001B[1;34m(self)\u001B[0m\n\u001B[0;32m   1099\u001B[0m                     \u001B[0mvalues\u001B[0m\u001B[1;33m,\u001B[0m\u001B[1;33m\u001B[0m\u001B[1;33m\u001B[0m\u001B[0m\n\u001B[0;32m   1100\u001B[0m                     \u001B[0mf\u001B[0m\u001B[1;33m,\u001B[0m  \u001B[1;31m# type: ignore[arg-type]\u001B[0m\u001B[1;33m\u001B[0m\u001B[1;33m\u001B[0m\u001B[0m\n\u001B[1;32m-> 1101\u001B[1;33m                     \u001B[0mconvert\u001B[0m\u001B[1;33m=\u001B[0m\u001B[0mself\u001B[0m\u001B[1;33m.\u001B[0m\u001B[0mconvert_dtype\u001B[0m\u001B[1;33m,\u001B[0m\u001B[1;33m\u001B[0m\u001B[1;33m\u001B[0m\u001B[0m\n\u001B[0m\u001B[0;32m   1102\u001B[0m                 )\n\u001B[0;32m   1103\u001B[0m \u001B[1;33m\u001B[0m\u001B[0m\n",
      "\u001B[1;32m~\\miniconda3\\envs\\cheminformatics\\lib\\site-packages\\pandas\\_libs\\lib.pyx\u001B[0m in \u001B[0;36mpandas._libs.lib.map_infer\u001B[1;34m()\u001B[0m\n",
      "\u001B[1;32m~\\miniconda3\\envs\\cheminformatics\\lib\\site-packages\\tqdm\\std.py\u001B[0m in \u001B[0;36mwrapper\u001B[1;34m(*args, **kwargs)\u001B[0m\n\u001B[0;32m    807\u001B[0m                     \u001B[1;31m# take a fast or slow code path; so stop when t.total==t.n\u001B[0m\u001B[1;33m\u001B[0m\u001B[1;33m\u001B[0m\u001B[1;33m\u001B[0m\u001B[0m\n\u001B[0;32m    808\u001B[0m                     \u001B[0mt\u001B[0m\u001B[1;33m.\u001B[0m\u001B[0mupdate\u001B[0m\u001B[1;33m(\u001B[0m\u001B[0mn\u001B[0m\u001B[1;33m=\u001B[0m\u001B[1;36m1\u001B[0m \u001B[1;32mif\u001B[0m \u001B[1;32mnot\u001B[0m \u001B[0mt\u001B[0m\u001B[1;33m.\u001B[0m\u001B[0mtotal\u001B[0m \u001B[1;32mor\u001B[0m \u001B[0mt\u001B[0m\u001B[1;33m.\u001B[0m\u001B[0mn\u001B[0m \u001B[1;33m<\u001B[0m \u001B[0mt\u001B[0m\u001B[1;33m.\u001B[0m\u001B[0mtotal\u001B[0m \u001B[1;32melse\u001B[0m \u001B[1;36m0\u001B[0m\u001B[1;33m)\u001B[0m\u001B[1;33m\u001B[0m\u001B[1;33m\u001B[0m\u001B[0m\n\u001B[1;32m--> 809\u001B[1;33m                     \u001B[1;32mreturn\u001B[0m \u001B[0mfunc\u001B[0m\u001B[1;33m(\u001B[0m\u001B[1;33m*\u001B[0m\u001B[0margs\u001B[0m\u001B[1;33m,\u001B[0m \u001B[1;33m**\u001B[0m\u001B[0mkwargs\u001B[0m\u001B[1;33m)\u001B[0m\u001B[1;33m\u001B[0m\u001B[1;33m\u001B[0m\u001B[0m\n\u001B[0m\u001B[0;32m    810\u001B[0m \u001B[1;33m\u001B[0m\u001B[0m\n\u001B[0;32m    811\u001B[0m                 \u001B[1;31m# Apply the provided function (in **kwargs)\u001B[0m\u001B[1;33m\u001B[0m\u001B[1;33m\u001B[0m\u001B[1;33m\u001B[0m\u001B[0m\n",
      "\u001B[1;32m~\\AppData\\Local\\Temp/ipykernel_4316/4265358622.py\u001B[0m in \u001B[0;36mneutralize_atoms\u001B[1;34m(smi)\u001B[0m\n\u001B[0;32m      3\u001B[0m     \u001B[0mmol\u001B[0m \u001B[1;33m=\u001B[0m \u001B[0mChem\u001B[0m\u001B[1;33m.\u001B[0m\u001B[0mMolFromSmiles\u001B[0m\u001B[1;33m(\u001B[0m\u001B[0msmi\u001B[0m\u001B[1;33m)\u001B[0m\u001B[1;33m\u001B[0m\u001B[1;33m\u001B[0m\u001B[0m\n\u001B[0;32m      4\u001B[0m     \u001B[0mpattern\u001B[0m \u001B[1;33m=\u001B[0m \u001B[0mChem\u001B[0m\u001B[1;33m.\u001B[0m\u001B[0mMolFromSmarts\u001B[0m\u001B[1;33m(\u001B[0m\u001B[1;34m\"[+1!h0!$([*]~[-1,-2,-3,-4]),-1!$([*]~[+1,+2,+3,+4])]\"\u001B[0m\u001B[1;33m)\u001B[0m\u001B[1;33m\u001B[0m\u001B[1;33m\u001B[0m\u001B[0m\n\u001B[1;32m----> 5\u001B[1;33m     \u001B[0mat_matches\u001B[0m \u001B[1;33m=\u001B[0m \u001B[0mmol\u001B[0m\u001B[1;33m.\u001B[0m\u001B[0mGetSubstructMatches\u001B[0m\u001B[1;33m(\u001B[0m\u001B[0mpattern\u001B[0m\u001B[1;33m)\u001B[0m\u001B[1;33m\u001B[0m\u001B[1;33m\u001B[0m\u001B[0m\n\u001B[0m\u001B[0;32m      6\u001B[0m     \u001B[0mat_matches_list\u001B[0m \u001B[1;33m=\u001B[0m \u001B[1;33m[\u001B[0m\u001B[0my\u001B[0m\u001B[1;33m[\u001B[0m\u001B[1;36m0\u001B[0m\u001B[1;33m]\u001B[0m \u001B[1;32mfor\u001B[0m \u001B[0my\u001B[0m \u001B[1;32min\u001B[0m \u001B[0mat_matches\u001B[0m\u001B[1;33m]\u001B[0m\u001B[1;33m\u001B[0m\u001B[1;33m\u001B[0m\u001B[0m\n\u001B[0;32m      7\u001B[0m     \u001B[1;32mif\u001B[0m \u001B[0mlen\u001B[0m\u001B[1;33m(\u001B[0m\u001B[0mat_matches_list\u001B[0m\u001B[1;33m)\u001B[0m \u001B[1;33m>\u001B[0m \u001B[1;36m0\u001B[0m\u001B[1;33m:\u001B[0m\u001B[1;33m\u001B[0m\u001B[1;33m\u001B[0m\u001B[0m\n",
      "\u001B[1;32m~\\miniconda3\\envs\\cheminformatics\\lib\\site-packages\\rdkit\\Chem\\Draw\\IPythonConsole.py\u001B[0m in \u001B[0;36m_GetSubstructMatches\u001B[1;34m(mol, query, *args, **kwargs)\u001B[0m\n\u001B[0;32m    200\u001B[0m \u001B[1;33m\u001B[0m\u001B[0m\n\u001B[0;32m    201\u001B[0m \u001B[1;32mdef\u001B[0m \u001B[0m_GetSubstructMatches\u001B[0m\u001B[1;33m(\u001B[0m\u001B[0mmol\u001B[0m\u001B[1;33m,\u001B[0m \u001B[0mquery\u001B[0m\u001B[1;33m,\u001B[0m \u001B[1;33m*\u001B[0m\u001B[0margs\u001B[0m\u001B[1;33m,\u001B[0m \u001B[1;33m**\u001B[0m\u001B[0mkwargs\u001B[0m\u001B[1;33m)\u001B[0m\u001B[1;33m:\u001B[0m\u001B[1;33m\u001B[0m\u001B[1;33m\u001B[0m\u001B[0m\n\u001B[1;32m--> 202\u001B[1;33m   \u001B[0mres\u001B[0m \u001B[1;33m=\u001B[0m \u001B[0mmol\u001B[0m\u001B[1;33m.\u001B[0m\u001B[0m__GetSubstructMatches\u001B[0m\u001B[1;33m(\u001B[0m\u001B[0mquery\u001B[0m\u001B[1;33m,\u001B[0m \u001B[1;33m*\u001B[0m\u001B[0margs\u001B[0m\u001B[1;33m,\u001B[0m \u001B[1;33m**\u001B[0m\u001B[0mkwargs\u001B[0m\u001B[1;33m)\u001B[0m\u001B[1;33m\u001B[0m\u001B[1;33m\u001B[0m\u001B[0m\n\u001B[0m\u001B[0;32m    203\u001B[0m   \u001B[0mmol\u001B[0m\u001B[1;33m.\u001B[0m\u001B[0m__sssAtoms\u001B[0m \u001B[1;33m=\u001B[0m \u001B[1;33m[\u001B[0m\u001B[1;33m]\u001B[0m\u001B[1;33m\u001B[0m\u001B[1;33m\u001B[0m\u001B[0m\n\u001B[0;32m    204\u001B[0m   \u001B[1;32mif\u001B[0m \u001B[0mhighlightSubstructs\u001B[0m\u001B[1;33m:\u001B[0m\u001B[1;33m\u001B[0m\u001B[1;33m\u001B[0m\u001B[0m\n",
      "\u001B[1;31mKeyboardInterrupt\u001B[0m: "
     ]
    }
   ],
   "source": [
    "# Silence warning messages\n",
    "\n",
    "# add column flagging compounds with uncommon atom types\n",
    "numCpdsBefore = df.shape[0]\n",
    "\n",
    "# remove compounds with uncommon atoms types\n",
    "df['OnlyCommonAtms'] = df.SMILES.progress_apply(commonAtoms)\n",
    "df = df.loc[(df['OnlyCommonAtms'] == True)]\n",
    "\n",
    "# removing salts, cleaning up SMILES\n",
    "df['SMILES'] = df.SMILES.progress_apply(stripSalts) \n",
    "\n",
    "# neutralize\n",
    "df['SMILES'] = df.SMILES.progress_apply(neutralize_atoms) # clean SMILES\n",
    "\n",
    "# calculate and filter on three simple descriptors (RDkit)\n",
    "df['desc'] = df.SMILES.progress_apply(calc_3_descriptors)\n",
    "desc_cols = ['MW','Rotors','Heavys']\n",
    "df[desc_cols] = df.desc.to_list()\n",
    "df.drop(\"desc\",axis=1,inplace=True)\n",
    "\n",
    "# filter on simple properties\n",
    "df = df.loc[(df['Heavys'] > 5) & \n",
    "            (df['Heavys'] < 50) &\n",
    "            (df['Rotors'] < 18) &\n",
    "            (df['MW'] > 100) &\n",
    "            (df['MW'] < 900) #&\n",
    "            #(df['OnlyCommonAtms'] == True)\n",
    "            ]\n",
    "\n",
    "# drop columns from dataframe\n",
    "df.drop([\"OnlyCommonAtms\",'Heavys','MW','Rotors'], axis=1,inplace=True)\n",
    "\n",
    "numCpdsAfter = df.shape[0]\n",
    "\n",
    "print(f\"Starting with {numCpdsBefore} compounds. This many remaining {numCpdsAfter} after filtering.\")"
   ]
  },
  {
   "cell_type": "markdown",
   "id": "f29a47c3",
   "metadata": {},
   "source": [
    "## Sort the HIV actives and inactives into separate dateframes and lists"
   ]
  },
  {
   "cell_type": "code",
   "execution_count": null,
   "id": "9dda6bee",
   "metadata": {},
   "outputs": [
    {
     "name": "stdout",
     "output_type": "stream",
     "text": [
      "Number of actives: 1088 and inactives: 36554\n"
     ]
    }
   ],
   "source": [
    "df_inactives = df.loc[(df['HIV_active'] == 0)]\n",
    "inactivesList = getMolListFromDataFrame(df_inactives, \"MolName\")\n",
    "\n",
    "df_actives = df.loc[(df['HIV_active'] == 1)]\n",
    "activesList = getMolListFromDataFrame(df_actives, \"MolName\")\n",
    "\n",
    "print(f\"Number of actives: {len(activesList)} and inactives: {len(inactivesList)}\")"
   ]
  },
  {
   "cell_type": "markdown",
   "id": "0a7185d3",
   "metadata": {},
   "source": [
    "### export images as png files \n",
    "(saved in ./images folder)"
   ]
  },
  {
   "cell_type": "code",
   "execution_count": null,
   "id": "fabd4891",
   "metadata": {},
   "outputs": [
    {
     "name": "stdout",
     "output_type": "stream",
     "text": [
      "Done\n"
     ]
    }
   ],
   "source": [
    "path = \"MolFromSmilesImages/\"\n",
    "for active in activesList:\n",
    "    molname = active.GetProp(\"MolName\")\n",
    "    molname = molname.replace(\" \", \"_\")\n",
    "    filename = path + molname + \"_Active.png\"\n",
    "    Chem.Draw.MolToFile(active, filename, size=(200,150))#, kekulize=True, wedgeBonds=True, imageType=None, fitImage=False, options=None)\n",
    "print('Done')"
   ]
  },
  {
   "cell_type": "code",
   "execution_count": null,
   "id": "4f8a04dc",
   "metadata": {},
   "outputs": [
    {
     "name": "stdout",
     "output_type": "stream",
     "text": [
      "Done\n"
     ]
    }
   ],
   "source": [
    "# and the inactives\n",
    "for inactive in inactivesList:\n",
    "    molname = inactive.GetProp(\"MolName\")\n",
    "    molname = molname.replace(\" \", \"_\")\n",
    "    filename = path + molname + \"_Inactive.png\"\n",
    "    Chem.Draw.MolToFile(inactive, filename, size=(200,150))#, kekulize=True, wedgeBonds=True, imageType=None, fitImage=False, options=None)\n",
    "print('Done')\n"
   ]
  },
  {
   "cell_type": "code",
   "execution_count": 6,
   "id": "32da890c",
   "metadata": {},
   "outputs": [
    {
     "ename": "SyntaxError",
     "evalue": "invalid syntax (Temp/ipykernel_17372/1781818280.py, line 2)",
     "output_type": "error",
     "traceback": [
      "\u001B[1;36m  File \u001B[1;32m\"C:\\Users\\gusta\\AppData\\Local\\Temp/ipykernel_17372/1781818280.py\"\u001B[1;36m, line \u001B[1;32m2\u001B[0m\n\u001B[1;33m    model = ChemCeption(img_spec: str = 'std', img_size: int = 80, base_filters: int = 16, inception_blocks: Dict = {'A': 3, 'B': 3, 'C': 3}, n_tasks: int = 10, n_classes: int = 2, augment: bool = False, mode: str = 'regression', **kwargs)\u001B[0m\n\u001B[1;37m                                ^\u001B[0m\n\u001B[1;31mSyntaxError\u001B[0m\u001B[1;31m:\u001B[0m invalid syntax\n"
     ]
    }
   ],
   "source": [
    "import deepchem as dc\n",
    "model = ChemCeption(img_spec: str = 'std', img_size: int = 80, base_filters: int = 16, inception_blocks: Dict = {'A': 3, 'B': 3, 'C': 3}, n_tasks: int = 10, n_classes: int = 2, augment: bool = False, mode: str = 'regression', **kwargs)"
   ]
  },
  {
   "cell_type": "code",
   "execution_count": 18,
   "id": "6cfd6f9b",
   "metadata": {},
   "outputs": [
    {
     "data": {
      "text/plain": "array([[1, 0],\n       [0, 1],\n       [1, 0],\n       [0, 1],\n       [0, 1],\n       [1, 0]])"
     },
     "execution_count": 18,
     "metadata": {},
     "output_type": "execute_result"
    }
   ],
   "source": [
    "import numpy as np\n",
    "from collections import Counter\n",
    "\n",
    "lst = [1,1,1,0,0]\n",
    "arr = np.array(lst)\n",
    "\n",
    "\n",
    "class_list = cs_data_balance(arr)\n",
    "class_list\n",
    "\n",
    "lst = [[1,0],[1,0],[1,0],[0,1],[0,1]]\n",
    "arr = np.array(lst)\n",
    "\n",
    "arr[class_list]\n"
   ]
  },
  {
   "cell_type": "code",
   "execution_count": 8,
   "outputs": [],
   "source": [
    "def cs_data_balance(class_list):\n",
    "    # Count how many samples for each class is present\n",
    "    counts = Counter(class_list)\n",
    "\n",
    "    # Determine max class and count\n",
    "    maxclass, maxcount = Counter(class_list).most_common(1)[0]\n",
    "\n",
    "    # Construct separate list of each class to match max class and concat to single list\n",
    "    index_lists = []\n",
    "    for key in counts.keys():\n",
    "        tmp_list = [i for i in range(len(class_list)) if class_list[i] == key]\n",
    "        index_lists.append(tmp_list)\n",
    "        # Oversample non-max class until max count is reached\n",
    "        if len(tmp_list) < maxcount:\n",
    "            index_lists.append(np.random.choice(tmp_list, size=maxcount - len(tmp_list)))  # , replace=True))\n",
    "    index_list = np.concatenate(index_lists)\n",
    "    np.random.shuffle(index_list)\n",
    "\n",
    "    return index_list"
   ],
   "metadata": {
    "collapsed": false,
    "pycharm": {
     "name": "#%%\n"
    }
   }
  },
  {
   "cell_type": "code",
   "execution_count": null,
   "outputs": [],
   "source": [],
   "metadata": {
    "collapsed": false,
    "pycharm": {
     "name": "#%%\n"
    }
   }
  }
 ],
 "metadata": {
  "kernelspec": {
   "display_name": "Python 3 (ipykernel)",
   "language": "python",
   "name": "python3"
  },
  "language_info": {
   "codemirror_mode": {
    "name": "ipython",
    "version": 3
   },
   "file_extension": ".py",
   "mimetype": "text/x-python",
   "name": "python",
   "nbconvert_exporter": "python",
   "pygments_lexer": "ipython3",
   "version": "3.7.11"
  }
 },
 "nbformat": 4,
 "nbformat_minor": 5
}